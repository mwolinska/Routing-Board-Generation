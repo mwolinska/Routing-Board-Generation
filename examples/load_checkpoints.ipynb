{
 "cells": [
  {
   "cell_type": "code",
   "execution_count": 1,
   "metadata": {
    "jupyter": {
     "outputs_hidden": true
    },
    "pycharm": {
     "is_executing": true
    }
   },
   "outputs": [
    {
     "name": "stdout",
     "output_type": "stream",
     "text": [
      "Note: you may need to restart the kernel to use updated packages.\n"
     ]
    }
   ],
   "source": [
    "%pip install --quiet -U pip -r ../requirements/requirements-train.txt ../."
   ]
  },
  {
   "cell_type": "code",
   "execution_count": 5,
   "metadata": {
    "jupyter": {
     "outputs_hidden": false
    },
    "pycharm": {
     "is_executing": true
    }
   },
   "outputs": [
    {
     "ename": "ModuleNotFoundError",
     "evalue": "No module named 'jumanji'",
     "output_type": "error",
     "traceback": [
      "\u001b[0;31m---------------------------------------------------------------------------\u001b[0m",
      "\u001b[0;31mModuleNotFoundError\u001b[0m                       Traceback (most recent call last)",
      "Cell \u001b[0;32mIn[5], line 7\u001b[0m\n\u001b[1;32m      4\u001b[0m \u001b[38;5;28;01mfrom\u001b[39;00m \u001b[38;5;21;01mhydra\u001b[39;00m \u001b[38;5;28;01mimport\u001b[39;00m compose, initialize\n\u001b[1;32m      6\u001b[0m \u001b[38;5;66;03m#export PATH=\"~/Documents/InstadeepGroupProject/jumanji_routing\"\u001b[39;00m\n\u001b[0;32m----> 7\u001b[0m \u001b[38;5;28;01mfrom\u001b[39;00m \u001b[38;5;21;01mjumanji\u001b[39;00m\u001b[38;5;21;01m.\u001b[39;00m\u001b[38;5;21;01mtraining\u001b[39;00m\u001b[38;5;21;01m.\u001b[39;00m\u001b[38;5;21;01msetup_train\u001b[39;00m \u001b[38;5;28;01mimport\u001b[39;00m setup_agent, setup_env\n\u001b[1;32m      8\u001b[0m \u001b[38;5;28;01mfrom\u001b[39;00m \u001b[38;5;21;01mjumanji\u001b[39;00m\u001b[38;5;21;01m.\u001b[39;00m\u001b[38;5;21;01mtraining\u001b[39;00m\u001b[38;5;21;01m.\u001b[39;00m\u001b[38;5;21;01mutils\u001b[39;00m \u001b[38;5;28;01mimport\u001b[39;00m first_from_device\n",
      "\u001b[0;31mModuleNotFoundError\u001b[0m: No module named 'jumanji'"
     ]
    }
   ],
   "source": [
    "import pickle\n",
    "\n",
    "import jax\n",
    "from hydra import compose, initialize\n",
    "\n",
    "#export PATH=\"~/Documents/InstadeepGroupProject/jumanji_routing\"\n",
    "from jumanji.training.setup_train import setup_agent, setup_env\n",
    "from jumanji.training.utils import first_from_device"
   ]
  },
  {
   "cell_type": "markdown",
   "metadata": {},
   "source": [
    "## Load configs"
   ]
  },
  {
   "cell_type": "code",
   "execution_count": null,
   "metadata": {},
   "outputs": [],
   "source": [
    "with initialize(version_base=None, config_path=\"../jumanji/training/configs\"):\n",
    "    cfg = compose(config_name=\"config.yaml\", overrides=[\"env=connector\", \"agent=a2c\"])\n",
    "cfg"
   ]
  },
  {
   "cell_type": "markdown",
   "metadata": {},
   "source": [
    "## Load a saved checkpoint"
   ]
  },
  {
   "cell_type": "code",
   "execution_count": null,
   "metadata": {},
   "outputs": [],
   "source": [
    "with open(\"examples/19-27-36/19-27-36/training_state\",\"rb\") as f:\n",
    "    training_state = pickle.load(f)\n",
    "\n",
    "params = first_from_device(training_state.params_state.params)\n",
    "env = setup_env(cfg).unwrapped\n",
    "agent = setup_agent(cfg, env)\n",
    "policy = jax.jit(agent.make_policy(params.actor, stochastic = False))"
   ]
  },
  {
   "cell_type": "markdown",
   "metadata": {},
   "source": [
    "## Rollout a few episodes"
   ]
  },
  {
   "cell_type": "code",
   "execution_count": null,
   "metadata": {
    "tags": []
   },
   "outputs": [],
   "source": [
    "NUM_EPISODES = 10\n",
    "\n",
    "states = []\n",
    "key = jax.random.PRNGKey(cfg.seed)\n",
    "for episode in range(NUM_EPISODES):\n",
    "    key, reset_key = jax.random.split(key) \n",
    "    state, timestep = jax.jit(env.reset)(reset_key)\n",
    "    while not timestep.last():\n",
    "        key, action_key = jax.random.split(key)\n",
    "        observation = jax.tree_util.tree_map(lambda x: x[None], timestep.observation)\n",
    "        action, _ = policy(observation, action_key)\n",
    "        state, timestep = jax.jit(env.step)(state, action.squeeze(axis=0))\n",
    "        states.append(state)\n",
    "    # Freeze the terminal frame to pause the GIF.\n",
    "    for _ in range(10):\n",
    "        states.append(state)"
   ]
  },
  {
   "cell_type": "markdown",
   "metadata": {},
   "source": [
    "## Save GIF"
   ]
  },
  {
   "cell_type": "code",
   "execution_count": null,
   "metadata": {
    "pycharm": {
     "is_executing": true
    }
   },
   "outputs": [],
   "source": [
    "env.animate(states, interval=150).save(\"./connector.gif\")"
   ]
  },
  {
   "cell_type": "markdown",
   "metadata": {},
   "source": [
    "## Save PNG"
   ]
  },
  {
   "cell_type": "code",
   "execution_count": null,
   "metadata": {},
   "outputs": [],
   "source": [
    "import matplotlib.pyplot as plt\n",
    "%matplotlib inline\n",
    "env.render(states[117])\n",
    "plt.savefig(\"connector.png\", dpi=300)"
   ]
  },
  {
   "cell_type": "code",
   "execution_count": null,
   "metadata": {},
   "outputs": [],
   "source": []
  }
 ],
 "metadata": {
  "kernelspec": {
   "display_name": "Python 3 (ipykernel)",
   "language": "python",
   "name": "python3"
  },
  "language_info": {
   "codemirror_mode": {
    "name": "ipython",
    "version": 3
   },
   "file_extension": ".py",
   "mimetype": "text/x-python",
   "name": "python",
   "nbconvert_exporter": "python",
   "pygments_lexer": "ipython3",
   "version": "3.10.6"
  }
 },
 "nbformat": 4,
 "nbformat_minor": 4
}
