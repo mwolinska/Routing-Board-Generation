{
 "cells": [
  {
   "cell_type": "code",
   "execution_count": 1,
   "metadata": {},
   "outputs": [],
   "source": [
    "# warning suppression\n",
    "import warnings\n",
    "warnings.filterwarnings(\"ignore\")\n",
    "\n",
    "from lsystems_copy_copy import LSystemBoardGen\n",
    "import jax.numpy as np\n",
    "from jax import random\n",
    "import jax\n",
    "from typing import List, NamedTuple, SupportsFloat as Numeric\n",
    "import time"
   ]
  },
  {
   "cell_type": "code",
   "execution_count": 3,
   "metadata": {},
   "outputs": [
    {
     "ename": "ValueError",
     "evalue": "vmap in_axes specification must be a tree prefix of the corresponding value, got specification (None, None, 0, None) for value tree PyTreeDef((*, CustomNode(namedtuple[Agent], [*, *, *]), *)).",
     "output_type": "error",
     "traceback": [
      "\u001b[0;31m---------------------------------------------------------------------------\u001b[0m",
      "\u001b[0;31mValueError\u001b[0m                                Traceback (most recent call last)",
      "Cell \u001b[0;32mIn[3], line 4\u001b[0m\n\u001b[1;32m      2\u001b[0m board \u001b[39m=\u001b[39m LSystemBoardGen(\u001b[39m5\u001b[39m,\u001b[39m5\u001b[39m,\u001b[39m3\u001b[39m)\n\u001b[1;32m      3\u001b[0m init_agents, grid \u001b[39m=\u001b[39m board\u001b[39m.\u001b[39minitialise_starting_board(key)\n\u001b[0;32m----> 4\u001b[0m agents \u001b[39m=\u001b[39m board\u001b[39m.\u001b[39;49mfill(key, init_agents, grid)\n\u001b[1;32m      5\u001b[0m \u001b[39m# board.wire_extend(key, init_agents)\u001b[39;00m\n\u001b[1;32m      6\u001b[0m \u001b[39m# board.fill_solved_board(init_agents)\u001b[39;00m\n",
      "File \u001b[0;32m~/instadeep/jumanji_routing/ic_routing_board_generation/board_generator/lsystems_copy_copy.py:375\u001b[0m, in \u001b[0;36mLSystemBoardGen.fill\u001b[0;34m(self, key, agents, board)\u001b[0m\n\u001b[1;32m    371\u001b[0m \u001b[39mdef\u001b[39;00m \u001b[39mfill\u001b[39m(\u001b[39mself\u001b[39m,\n\u001b[1;32m    372\u001b[0m          key: random\u001b[39m.\u001b[39mPRNGKey,\n\u001b[1;32m    373\u001b[0m          agents: Agent,\n\u001b[1;32m    374\u001b[0m          board: jax\u001b[39m.\u001b[39mArray) \u001b[39m-\u001b[39m\u001b[39m>\u001b[39m Agent:\n\u001b[0;32m--> 375\u001b[0m     \u001b[39mreturn\u001b[39;00m \u001b[39mself\u001b[39;49m\u001b[39m.\u001b[39;49mfill_method((key, agents, board))\n",
      "File \u001b[0;32m~/instadeep/jumanji_routing/ic_routing_board_generation/board_generator/lsystems_copy_copy.py:393\u001b[0m, in \u001b[0;36mLSystemBoardGen.fill_method\u001b[0;34m(self, inp)\u001b[0m\n\u001b[1;32m    392\u001b[0m \u001b[39mdef\u001b[39;00m \u001b[39mfill_method\u001b[39m(\u001b[39mself\u001b[39m, inp) \u001b[39m-\u001b[39m\u001b[39m>\u001b[39m \u001b[39mNone\u001b[39;00m:\n\u001b[0;32m--> 393\u001b[0m     \u001b[39mreturn\u001b[39;00m jax\u001b[39m.\u001b[39;49mlax\u001b[39m.\u001b[39;49mfori_loop(\u001b[39m0\u001b[39;49m, \u001b[39mself\u001b[39;49m\u001b[39m.\u001b[39;49mn_iters, \u001b[39mself\u001b[39;49m\u001b[39m.\u001b[39;49mfill_method_inner, inp)\n",
      "    \u001b[0;31m[... skipping hidden 12 frame]\u001b[0m\n",
      "File \u001b[0;32m~/instadeep/jumanji_routing/ic_routing_board_generation/board_generator/lsystems_copy_copy.py:390\u001b[0m, in \u001b[0;36mLSystemBoardGen.fill_method_inner\u001b[0;34m(self, i, inp)\u001b[0m\n\u001b[1;32m    388\u001b[0m \u001b[39mdef\u001b[39;00m \u001b[39mfill_method_inner\u001b[39m(\u001b[39mself\u001b[39m, i, inp) \u001b[39m-\u001b[39m\u001b[39m>\u001b[39m Agent:\n\u001b[1;32m    389\u001b[0m     key, agents, board \u001b[39m=\u001b[39m inp\n\u001b[0;32m--> 390\u001b[0m     \u001b[39mreturn\u001b[39;00m jax\u001b[39m.\u001b[39;49mvmap(\u001b[39mself\u001b[39;49m\u001b[39m.\u001b[39;49mfill_method_inner_inner, in_axes\u001b[39m=\u001b[39;49m(\u001b[39mNone\u001b[39;49;00m, \u001b[39mNone\u001b[39;49;00m, \u001b[39m0\u001b[39;49m, \u001b[39mNone\u001b[39;49;00m))(key, agents, board)\n",
      "    \u001b[0;31m[... skipping hidden 2 frame]\u001b[0m\n",
      "File \u001b[0;32m~/instadeep/instadeep/lib/python3.10/site-packages/jax/_src/api_util.py:418\u001b[0m, in \u001b[0;36mflatten_axes\u001b[0;34m(name, treedef, axis_tree, kws, tupled_args)\u001b[0m\n\u001b[1;32m    414\u001b[0m       \u001b[39melse\u001b[39;00m:\n\u001b[1;32m    415\u001b[0m         hint \u001b[39m+\u001b[39m\u001b[39m=\u001b[39m (\u001b[39mf\u001b[39m\u001b[39m\"\u001b[39m\u001b[39m In particular, you\u001b[39m\u001b[39m'\u001b[39m\u001b[39mre passing in a single argument which \u001b[39m\u001b[39m\"\u001b[39m\n\u001b[1;32m    416\u001b[0m                  \u001b[39mf\u001b[39m\u001b[39m\"\u001b[39m\u001b[39mmeans that \u001b[39m\u001b[39m{\u001b[39;00mname\u001b[39m}\u001b[39;00m\u001b[39m might need to be wrapped in \u001b[39m\u001b[39m\"\u001b[39m\n\u001b[1;32m    417\u001b[0m                  \u001b[39mf\u001b[39m\u001b[39m\"\u001b[39m\u001b[39ma singleton tuple.\u001b[39m\u001b[39m\"\u001b[39m)\n\u001b[0;32m--> 418\u001b[0m   \u001b[39mraise\u001b[39;00m \u001b[39mValueError\u001b[39;00m(\u001b[39mf\u001b[39m\u001b[39m\"\u001b[39m\u001b[39m{\u001b[39;00mname\u001b[39m}\u001b[39;00m\u001b[39m specification must be a tree prefix of the \u001b[39m\u001b[39m\"\u001b[39m\n\u001b[1;32m    419\u001b[0m                    \u001b[39mf\u001b[39m\u001b[39m\"\u001b[39m\u001b[39mcorresponding value, got specification \u001b[39m\u001b[39m{\u001b[39;00maxis_tree\u001b[39m}\u001b[39;00m\u001b[39m \u001b[39m\u001b[39m\"\u001b[39m\n\u001b[1;32m    420\u001b[0m                    \u001b[39mf\u001b[39m\u001b[39m\"\u001b[39m\u001b[39mfor value tree \u001b[39m\u001b[39m{\u001b[39;00mtreedef\u001b[39m}\u001b[39;00m\u001b[39m.\u001b[39m\u001b[39m{\u001b[39;00mhint\u001b[39m}\u001b[39;00m\u001b[39m\"\u001b[39m) \u001b[39mfrom\u001b[39;00m \u001b[39mNone\u001b[39m\n\u001b[1;32m    421\u001b[0m axes \u001b[39m=\u001b[39m [\u001b[39mNone\u001b[39;00m \u001b[39mif\u001b[39;00m a \u001b[39mis\u001b[39;00m proxy \u001b[39melse\u001b[39;00m a \u001b[39mfor\u001b[39;00m a \u001b[39min\u001b[39;00m axes]\n\u001b[1;32m    422\u001b[0m \u001b[39massert\u001b[39;00m \u001b[39mlen\u001b[39m(axes) \u001b[39m==\u001b[39m treedef\u001b[39m.\u001b[39mnum_leaves\n",
      "\u001b[0;31mValueError\u001b[0m: vmap in_axes specification must be a tree prefix of the corresponding value, got specification (None, None, 0, None) for value tree PyTreeDef((*, CustomNode(namedtuple[Agent], [*, *, *]), *))."
     ]
    }
   ],
   "source": [
    "key = random.PRNGKey(int(time.time()))\n",
    "board = LSystemBoardGen(5,5,3)\n",
    "init_agents, grid = board.initialise_starting_board(key)\n",
    "agents = board.fill(key, init_agents, grid)\n",
    "# board.wire_extend(key, init_agents)\n",
    "# board.fill_solved_board(init_agents)"
   ]
  },
  {
   "cell_type": "code",
   "execution_count": 6,
   "metadata": {},
   "outputs": [
    {
     "data": {
      "text/plain": [
       "Array([1, 1, 1], dtype=int32, weak_type=True)"
      ]
     },
     "execution_count": 6,
     "metadata": {},
     "output_type": "execute_result"
    }
   ],
   "source": [
    "init_agents.head_insertion_index"
   ]
  },
  {
   "cell_type": "code",
   "execution_count": null,
   "metadata": {},
   "outputs": [],
   "source": [
    "grid"
   ]
  },
  {
   "cell_type": "code",
   "execution_count": null,
   "metadata": {},
   "outputs": [],
   "source": [
    "init_agents.data[2]"
   ]
  },
  {
   "cell_type": "code",
   "execution_count": null,
   "metadata": {},
   "outputs": [],
   "source": [
    "board.fill(key, init_agents)"
   ]
  },
  {
   "cell_type": "code",
   "execution_count": null,
   "metadata": {},
   "outputs": [],
   "source": [
    "key = random.PRNGKey(int(time.time()))                                          \n",
    "board = LSystemBoardGen(3,3,3)\n",
    "jaxd_board_init = jax.jit(board.initialise_starting_board)\n",
    "agents = jaxd_board_init(key)\n",
    "grow_agents = jax.jit(board.fill, static_argnames=[\"n_iters\", \"pushpullnone_ratios\"])"
   ]
  },
  {
   "cell_type": "code",
   "execution_count": null,
   "metadata": {},
   "outputs": [],
   "source": [
    "for i in range(10):\n",
    "    print(f'\\n item {i}')\n",
    "    key = random.split(key)[0]\n",
    "    agents = jaxd_board_init(key)\n",
    "    agents = grow_agents(key, agents)[1]\n",
    "    print(f'solved board {i}')\n",
    "    print(board.fill_solved_board(agents), '\\n')\n",
    "    print(agents, '\\n')\n",
    "    # print(f'decluttered board {i}')\n",
    "    # print(board.declutter(key, 0, agents), '\\n')\n",
    "    # print(f'wire extension board {i}')\n",
    "    # print(board.wire_extend(key, agents),  '\\n')\n"
   ]
  },
  {
   "cell_type": "markdown",
   "metadata": {},
   "source": [
    "%time jax.block_until_ready(grow_agents(key, agents, n_iters=20, pushpullnone_ratios=(2, 0.5, 0))[1])"
   ]
  },
  {
   "cell_type": "code",
   "execution_count": null,
   "metadata": {},
   "outputs": [],
   "source": [
    "%time jax.block_until_ready(grow_agents(key, agents, n_iters=200, pushpullnone_ratios=(2, 0.5, 0))[1])"
   ]
  },
  {
   "cell_type": "code",
   "execution_count": null,
   "metadata": {},
   "outputs": [],
   "source": [
    "# new_agents = grow_agents(key, agents, n_iters=20, pushpullnone_ratios=(2, 0.5, 0))[1]\n",
    "# print(board.fill_solved_board(new_agents))"
   ]
  },
  {
   "cell_type": "code",
   "execution_count": null,
   "metadata": {},
   "outputs": [],
   "source": [
    "f_jit = jax.jit(f)\n",
    "\n",
    "# Compilation time\n",
    "%time jax.block_until_ready(f_jit(*args))\n",
    "\n",
    "# Running time\n",
    "%timeit jax.block_until_ready(f_jit(*args))"
   ]
  },
  {
   "cell_type": "code",
   "execution_count": null,
   "metadata": {},
   "outputs": [],
   "source": [
    "key = random.PRNGKey(int(time.time()))\n",
    "board = LSystemBoardGen(2, 2, 1)\n",
    "\n",
    "# jaxd_board_init = jax.jit(board.initialise_starting_board)\n",
    "# agents = jaxd_board_init(key)\n",
    "agents = board.initialise_starting_board(key)\n",
    "\n",
    "# grow_agents = jax.jit(board.fill, static_argnames=[\"n_iters\", \"pushpullnone_ratios\"])\n",
    "# grow_agents(key, agents, n_iters=1, pushpullnone_ratios=(2, 0.5, 1))\n",
    "filled_board = board.fill(key, agents, n_iters=3, pushpullnone_ratios=(2, 0, 0))"
   ]
  },
  {
   "cell_type": "code",
   "execution_count": null,
   "metadata": {},
   "outputs": [],
   "source": [
    "\n",
    "agents = board.initialise_starting_board(key)\n",
    "new_agents = board.fill(key, agents, n_iters=5, pushpullnone_ratios=[2, 0.5, 1])\n",
    "print('board after fill\\n', board.fill_solved_board(new_agents))"
   ]
  },
  {
   "attachments": {},
   "cell_type": "markdown",
   "metadata": {},
   "source": [
    "### Testing NumPy boards"
   ]
  },
  {
   "cell_type": "code",
   "execution_count": null,
   "metadata": {},
   "outputs": [],
   "source": [
    "import lsystems_numpy as lsys\n",
    "board = lsys.LSystemBoardGen(10, 10, 5)\n",
    "board_gen = board.generate_boards(n_boards=10000, n_steps=10, pushpullnone_ratios=[2, 2, 1])"
   ]
  },
  {
   "cell_type": "code",
   "execution_count": null,
   "metadata": {},
   "outputs": [],
   "source": [
    "board = lsys.LSystemBoardGen(10, 10, 5)"
   ]
  },
  {
   "cell_type": "code",
   "execution_count": null,
   "metadata": {},
   "outputs": [],
   "source": []
  },
  {
   "cell_type": "code",
   "execution_count": null,
   "metadata": {},
   "outputs": [],
   "source": [
    "board_gen.shape"
   ]
  },
  {
   "cell_type": "code",
   "execution_count": null,
   "metadata": {},
   "outputs": [],
   "source": []
  }
 ],
 "metadata": {
  "kernelspec": {
   "display_name": "instadeep",
   "language": "python",
   "name": "python3"
  },
  "language_info": {
   "codemirror_mode": {
    "name": "ipython",
    "version": 3
   },
   "file_extension": ".py",
   "mimetype": "text/x-python",
   "name": "python",
   "nbconvert_exporter": "python",
   "pygments_lexer": "ipython3",
   "version": "3.10.10"
  },
  "orig_nbformat": 4
 },
 "nbformat": 4,
 "nbformat_minor": 2
}
