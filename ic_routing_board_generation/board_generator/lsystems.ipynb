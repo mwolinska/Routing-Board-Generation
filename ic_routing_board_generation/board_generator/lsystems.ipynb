{
 "cells": [
  {
   "cell_type": "code",
   "execution_count": 1,
   "metadata": {},
   "outputs": [],
   "source": [
    "# warning suppression\n",
    "import warnings\n",
    "warnings.filterwarnings(\"ignore\")\n",
    "\n",
    "# from lsystems_copy import LSystemBoardGen\n",
    "from jax_board_generation.lsystems_working_copy import LSystemBoardGen\n",
    "import jax.numpy as np\n",
    "from jax import random\n",
    "import jax\n",
    "from typing import List, NamedTuple, SupportsFloat as Numeric\n",
    "import time"
   ]
  },
  {
   "cell_type": "code",
   "execution_count": 2,
   "metadata": {},
   "outputs": [
    {
     "ename": "AttributeError",
     "evalue": "'Array' object has no attribute 'data'",
     "output_type": "error",
     "traceback": [
      "\u001b[0;31m---------------------------------------------------------------------------\u001b[0m",
      "\u001b[0;31mAttributeError\u001b[0m                            Traceback (most recent call last)",
      "Cell \u001b[0;32mIn[2], line 3\u001b[0m\n\u001b[1;32m      1\u001b[0m key \u001b[39m=\u001b[39m random\u001b[39m.\u001b[39mPRNGKey(\u001b[39mint\u001b[39m(time\u001b[39m.\u001b[39mtime()))\n\u001b[1;32m      2\u001b[0m board \u001b[39m=\u001b[39m LSystemBoardGen(\u001b[39m3\u001b[39m,\u001b[39m3\u001b[39m,\u001b[39m1\u001b[39m)\n\u001b[0;32m----> 3\u001b[0m init_agents \u001b[39m=\u001b[39m board\u001b[39m.\u001b[39;49minitialise_starting_board(key)\n\u001b[1;32m      4\u001b[0m agents \u001b[39m=\u001b[39m board\u001b[39m.\u001b[39mfill(key, init_agents)\n\u001b[1;32m      5\u001b[0m \u001b[39m# board.wire_extend(key, init_agents)\u001b[39;00m\n\u001b[1;32m      6\u001b[0m \u001b[39m# board.fill_solved_board(init_agents)\u001b[39;00m\n",
      "File \u001b[0;32m~/instadeep/jumanji_routing/ic_routing_board_generation/board_generator/jax_board_generation/lsystems_working_copy.py:76\u001b[0m, in \u001b[0;36mLSystemBoardGen.initialise_starting_board\u001b[0;34m(self, key)\u001b[0m\n\u001b[1;32m     73\u001b[0m head_indices, tail_indices \u001b[39m=\u001b[39m \u001b[39mself\u001b[39m\u001b[39m.\u001b[39mgenerate_indices(key)\n\u001b[1;32m     74\u001b[0m agents \u001b[39m=\u001b[39m jax\u001b[39m.\u001b[39mvmap(\u001b[39mself\u001b[39m\u001b[39m.\u001b[39minitialise_starting_board_for_one_agent, in_axes\u001b[39m=\u001b[39m(\u001b[39m0\u001b[39m, \u001b[39mNone\u001b[39;00m, \u001b[39mNone\u001b[39;00m))(\n\u001b[1;32m     75\u001b[0m     jax\u001b[39m.\u001b[39mnumpy\u001b[39m.\u001b[39marange(\u001b[39mself\u001b[39m\u001b[39m.\u001b[39mnum_agents), head_indices, tail_indices)\n\u001b[0;32m---> 76\u001b[0m grid \u001b[39m=\u001b[39m \u001b[39mself\u001b[39;49m\u001b[39m.\u001b[39;49mfill_solved_board(agents)\n\u001b[1;32m     77\u001b[0m \u001b[39mreturn\u001b[39;00m agents\n",
      "File \u001b[0;32m~/instadeep/jumanji_routing/ic_routing_board_generation/board_generator/jax_board_generation/lsystems_working_copy.py:207\u001b[0m, in \u001b[0;36mLSystemBoardGen.fill_solved_board\u001b[0;34m(self, agents)\u001b[0m\n\u001b[1;32m    204\u001b[0m board \u001b[39m=\u001b[39m np\u001b[39m.\u001b[39mzeros((\u001b[39mself\u001b[39m\u001b[39m.\u001b[39mrows, \u001b[39mself\u001b[39m\u001b[39m.\u001b[39mcols))\n\u001b[1;32m    206\u001b[0m \u001b[39mfor\u001b[39;00m i \u001b[39min\u001b[39;00m \u001b[39mrange\u001b[39m(\u001b[39mlen\u001b[39m(agents)):\n\u001b[0;32m--> 207\u001b[0m     \u001b[39mfor\u001b[39;00m j \u001b[39min\u001b[39;00m \u001b[39mrange\u001b[39m(\u001b[39mlen\u001b[39m(agents[\u001b[39m0\u001b[39;49m]\u001b[39m.\u001b[39;49mdata)):\n\u001b[1;32m    208\u001b[0m         left, middle, right \u001b[39m=\u001b[39m \u001b[39mself\u001b[39m\u001b[39m.\u001b[39mis_empty_self_and_neighbours(j, agents[i])\n\u001b[1;32m    209\u001b[0m         board \u001b[39m=\u001b[39m jax\u001b[39m.\u001b[39mlax\u001b[39m.\u001b[39mselect(\u001b[39mself\u001b[39m\u001b[39m.\u001b[39mis_body(left, middle, right), board\u001b[39m.\u001b[39mat[\u001b[39mtuple\u001b[39m(agents[i]\u001b[39m.\u001b[39mdata[j])]\u001b[39m.\u001b[39mset(\u001b[39m3\u001b[39m\u001b[39m*\u001b[39mi\u001b[39m+\u001b[39m\u001b[39m1\u001b[39m), board)\n",
      "\u001b[0;31mAttributeError\u001b[0m: 'Array' object has no attribute 'data'"
     ]
    }
   ],
   "source": [
    "key = random.PRNGKey(int(time.time()))\n",
    "board = LSystemBoardGen(3,3,1)\n",
    "init_agents = board.initialise_starting_board(key)\n",
    "agents = board.fill(key, init_agents)\n",
    "# board.wire_extend(key, init_agents)\n",
    "# board.fill_solved_board(init_agents)"
   ]
  }
 ],
 "metadata": {
  "kernelspec": {
   "display_name": "instadeep",
   "language": "python",
   "name": "python3"
  },
  "language_info": {
   "codemirror_mode": {
    "name": "ipython",
    "version": 3
   },
   "file_extension": ".py",
   "mimetype": "text/x-python",
   "name": "python",
   "nbconvert_exporter": "python",
   "pygments_lexer": "ipython3",
   "version": "3.10.10"
  },
  "orig_nbformat": 4
 },
 "nbformat": 4,
 "nbformat_minor": 2
}
